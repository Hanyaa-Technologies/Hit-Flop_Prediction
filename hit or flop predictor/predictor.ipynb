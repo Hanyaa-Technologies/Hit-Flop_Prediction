{
 "cells": [
  {
   "cell_type": "code",
   "execution_count": 1,
   "metadata": {},
   "outputs": [],
   "source": [
    "import librosa\n",
    "import numpy as np\n",
    "import os\n",
    "import pandas as pd\n",
    "\n",
    "def extract_features(file_path):\n",
    "    try:\n",
    "        # Load the audio file\n",
    "        y, sr = librosa.load(file_path, duration=30)\n",
    "        \n",
    "        # Extract features\n",
    "        chroma_stft = librosa.feature.chroma_stft(y=y, sr=sr)\n",
    "        rmse = librosa.feature.rms(y=y)\n",
    "        spectral_centroid = librosa.feature.spectral_centroid(y=y, sr=sr)\n",
    "        spectral_bandwidth = librosa.feature.spectral_bandwidth(y=y, sr=sr)\n",
    "        rolloff = librosa.feature.spectral_rolloff(y=y, sr=sr)\n",
    "        zero_crossing_rate = librosa.feature.zero_crossing_rate(y)\n",
    "        harmony = librosa.effects.harmonic(y)\n",
    "        perceptr = librosa.effects.percussive(y)\n",
    "        tempo, _ = librosa.beat.beat_track(y=y, sr=sr)  # Note the underscore for unused variable\n",
    "        mfccs = librosa.feature.mfcc(y=y, sr=sr)\n",
    "\n",
    "        features = {\n",
    "            'chroma_stft': np.mean(chroma_stft),\n",
    "            'rmse': np.mean(rmse),\n",
    "            'spectral_centroid': np.mean(spectral_centroid),\n",
    "            'spectral_bandwidth': np.mean(spectral_bandwidth),\n",
    "            'rolloff': np.mean(rolloff),\n",
    "            'zero_crossing_rate': np.mean(zero_crossing_rate),\n",
    "            'harmony': np.mean(harmony),\n",
    "            'perceptr': np.mean(perceptr),\n",
    "            'tempo': tempo\n",
    "        }\n",
    "\n",
    "        for i in range(1, 21):\n",
    "            features[f'mfcc{i}'] = np.mean(mfccs[i-1])\n",
    "\n",
    "        return features\n",
    "    except Exception as e:\n",
    "        print(f\"Error processing {file_path}: {e}\")\n",
    "        return None"
   ]
  },
  {
   "cell_type": "code",
   "execution_count": 2,
   "metadata": {},
   "outputs": [],
   "source": [
    "def process_directory(directory, label, features_list, labels_list):\n",
    "    for file_name in os.listdir(directory):\n",
    "        if file_name.endswith('.mp3') or file_name.endswith('.wav'):\n",
    "            file_path = os.path.join(directory, file_name)\n",
    "            print(f\"Processing {file_path}\")\n",
    "            features = extract_features(file_path)\n",
    "            if features is not None:\n",
    "                features_list.append(features)\n",
    "                labels_list.append(label)\n"
   ]
  },
  {
   "cell_type": "code",
   "execution_count": 3,
   "metadata": {},
   "outputs": [],
   "source": [
    "def build_dataset(features_list, labels_list):\n",
    "    features_df = pd.DataFrame(features_list)\n",
    "    features_df['label'] = labels_list\n",
    "    return features_df"
   ]
  },
  {
   "cell_type": "code",
   "execution_count": 4,
   "metadata": {},
   "outputs": [
    {
     "name": "stdout",
     "output_type": "stream",
     "text": [
      "Processing C:\\Users\\AkshithaKochika\\Downloads\\Hit Prediction\\Audio_Dataset\\hit songs\\01 - Niluvadhamu Ninu Epudaina - SenSongsMp3.co.mp3\n",
      "Processing C:\\Users\\AkshithaKochika\\Downloads\\Hit Prediction\\Audio_Dataset\\hit songs\\04 - Chandrullo Unde Kundelu  - SenSongsMp3.co.mp3\n",
      "Processing C:\\Users\\AkshithaKochika\\Downloads\\Hit Prediction\\Audio_Dataset\\hit songs\\Aakasam Baddalaina-SenSongsMp3.Co.mp3\n",
      "Processing C:\\Users\\AkshithaKochika\\Downloads\\Hit Prediction\\Audio_Dataset\\hit songs\\Aggipulla Lanti-SenSongsMp3.Co.mp3\n",
      "Processing C:\\Users\\AkshithaKochika\\Downloads\\Hit Prediction\\Audio_Dataset\\hit songs\\Anuvanuvuu.mp3\n",
      "Processing C:\\Users\\AkshithaKochika\\Downloads\\Hit Prediction\\Audio_Dataset\\hit songs\\Chali Chaliga-SenSongsMp3.Co.mp3\n",
      "Processing C:\\Users\\AkshithaKochika\\Downloads\\Hit Prediction\\Audio_Dataset\\hit songs\\Chilipiga.mp3\n",
      "Processing C:\\Users\\AkshithaKochika\\Downloads\\Hit Prediction\\Audio_Dataset\\hit songs\\Chiru Chiru Chiru.mp3\n",
      "Processing C:\\Users\\AkshithaKochika\\Downloads\\Hit Prediction\\Audio_Dataset\\hit songs\\Evarevaro (Soul Version).mp3\n",
      "Processing C:\\Users\\AkshithaKochika\\Downloads\\Hit Prediction\\Audio_Dataset\\hit songs\\Evarevaro.mp3\n",
      "Processing C:\\Users\\AkshithaKochika\\Downloads\\Hit Prediction\\Audio_Dataset\\hit songs\\Hanuman Chalisa.mp3\n",
      "Processing C:\\Users\\AkshithaKochika\\Downloads\\Hit Prediction\\Audio_Dataset\\hit songs\\Hi_Nanna_Adigaa.mp3\n",
      "Processing C:\\Users\\AkshithaKochika\\Downloads\\Hit Prediction\\Audio_Dataset\\hit songs\\hi_Nanna_Ammaadi.mp3\n",
      "Processing C:\\Users\\AkshithaKochika\\Downloads\\Hit Prediction\\Audio_Dataset\\hit songs\\hi_nanna_Gaaju Bomma.mp3\n",
      "Processing C:\\Users\\AkshithaKochika\\Downloads\\Hit Prediction\\Audio_Dataset\\hit songs\\Inka Edo-SenSongsMp3.Co.mp3\n",
      "Processing C:\\Users\\AkshithaKochika\\Downloads\\Hit Prediction\\Audio_Dataset\\hit songs\\Inthandham.mp3\n",
      "Processing C:\\Users\\AkshithaKochika\\Downloads\\Hit Prediction\\Audio_Dataset\\hit songs\\Jaamu Rathiri.mp3\n",
      "Processing C:\\Users\\AkshithaKochika\\Downloads\\Hit Prediction\\Audio_Dataset\\hit songs\\Kurchi Madathapetti.mp3\n",
      "Processing C:\\Users\\AkshithaKochika\\Downloads\\Hit Prediction\\Audio_Dataset\\hit songs\\Mad_college.mp3\n",
      "Processing C:\\Users\\AkshithaKochika\\Downloads\\Hit Prediction\\Audio_Dataset\\hit songs\\mad_Nuvvu Navvukuntu.mp3\n",
      "Processing C:\\Users\\AkshithaKochika\\Downloads\\Hit Prediction\\Audio_Dataset\\hit songs\\Nanna Nuv Naa Pranam (Childs Version).mp3\n",
      "Processing C:\\Users\\AkshithaKochika\\Downloads\\Hit Prediction\\Audio_Dataset\\hit songs\\Nanna Nuv Naa Pranam.mp3\n",
      "Processing C:\\Users\\AkshithaKochika\\Downloads\\Hit Prediction\\Audio_Dataset\\hit songs\\Nee Yadalo Naaku.mp3\n",
      "Processing C:\\Users\\AkshithaKochika\\Downloads\\Hit Prediction\\Audio_Dataset\\hit songs\\Neeve-SenSongsMp3.Co.mp3\n",
      "Processing C:\\Users\\AkshithaKochika\\Downloads\\Hit Prediction\\Audio_Dataset\\hit songs\\Nenu Nuvvantu.mp3\n",
      "Processing C:\\Users\\AkshithaKochika\\Downloads\\Hit Prediction\\Audio_Dataset\\hit songs\\Ney Veyrey.mp3\n",
      "Processing C:\\Users\\AkshithaKochika\\Downloads\\Hit Prediction\\Audio_Dataset\\hit songs\\Nijame Ne Chebuthunna.mp3\n",
      "Processing C:\\Users\\AkshithaKochika\\Downloads\\Hit Prediction\\Audio_Dataset\\hit songs\\Oh Prema.mp3\n",
      "Processing C:\\Users\\AkshithaKochika\\Downloads\\Hit Prediction\\Audio_Dataset\\hit songs\\Oh Sita Hey Rama.mp3\n",
      "Processing C:\\Users\\AkshithaKochika\\Downloads\\Hit Prediction\\Audio_Dataset\\hit songs\\Poolamme Pilla.mp3\n",
      "Processing C:\\Users\\AkshithaKochika\\Downloads\\Hit Prediction\\Audio_Dataset\\hit songs\\Raghunandana.mp3\n",
      "Processing C:\\Users\\AkshithaKochika\\Downloads\\Hit Prediction\\Audio_Dataset\\hit songs\\Yevarini Adaganu.mp3\n",
      "Processing C:\\Users\\AkshithaKochika\\Downloads\\Hit Prediction\\Audio_Dataset\\hit songs\\ytmp3free.cc_alavaikunthapurramuloo-ramuloo-ramulaa-telugu-video-song-allu-arjun-trivikram-thaman-s-youtubemp3free.org.mp3\n",
      "Processing C:\\Users\\AkshithaKochika\\Downloads\\Hit Prediction\\Audio_Dataset\\hit songs\\ytmp3free.cc_buttabomma-full-video-song-4k-alavaikunthapurramuloo-allu-arjun-thaman-s-armaan-malik-youtubemp3free.org.mp3\n",
      "Processing C:\\Users\\AkshithaKochika\\Downloads\\Hit Prediction\\Audio_Dataset\\hit songs\\[iSongs.info] 05 - Cheppamma Cheppamma.mp3\n",
      "Processing C:\\Users\\AkshithaKochika\\Downloads\\Hit Prediction\\Audio_Dataset\\hit songs\\[Ninnati Theepi.mp3\n",
      "Processing C:\\Users\\AkshithaKochika\\Downloads\\Hit Prediction\\Audio_Dataset\\flop songs\\A Aa E Ee.mp3\n",
      "Processing C:\\Users\\AkshithaKochika\\Downloads\\Hit Prediction\\Audio_Dataset\\flop songs\\Android.mp3\n",
      "Processing C:\\Users\\AkshithaKochika\\Downloads\\Hit Prediction\\Audio_Dataset\\flop songs\\Ayyayyo.mp3\n",
      "Processing C:\\Users\\AkshithaKochika\\Downloads\\Hit Prediction\\Audio_Dataset\\flop songs\\balayya song.mp3\n",
      "Processing C:\\Users\\AkshithaKochika\\Downloads\\Hit Prediction\\Audio_Dataset\\flop songs\\Edola Mayala.mp3\n",
      "Processing C:\\Users\\AkshithaKochika\\Downloads\\Hit Prediction\\Audio_Dataset\\flop songs\\Gaddar.mp3\n",
      "Processing C:\\Users\\AkshithaKochika\\Downloads\\Hit Prediction\\Audio_Dataset\\flop songs\\Intandame.mp3\n",
      "Processing C:\\Users\\AkshithaKochika\\Downloads\\Hit Prediction\\Audio_Dataset\\flop songs\\Kobari Aakulu.mp3\n",
      "Processing C:\\Users\\AkshithaKochika\\Downloads\\Hit Prediction\\Audio_Dataset\\flop songs\\Promotion.mp3\n",
      "Processing C:\\Users\\AkshithaKochika\\Downloads\\Hit Prediction\\Audio_Dataset\\flop songs\\Sambo Shiva Samboo.mp3\n",
      "Processing C:\\Users\\AkshithaKochika\\Downloads\\Hit Prediction\\Audio_Dataset\\flop songs\\Set Ayyindhe.mp3\n",
      "Processing C:\\Users\\AkshithaKochika\\Downloads\\Hit Prediction\\Audio_Dataset\\flop songs\\Singham 123.mp3\n",
      "Processing C:\\Users\\AkshithaKochika\\Downloads\\Hit Prediction\\Audio_Dataset\\flop songs\\Singham.mp3\n",
      "Processing C:\\Users\\AkshithaKochika\\Downloads\\Hit Prediction\\Audio_Dataset\\flop songs\\Sooriday.mp3\n",
      "Processing C:\\Users\\AkshithaKochika\\Downloads\\Hit Prediction\\Audio_Dataset\\flop songs\\Vethikina.mp3\n"
     ]
    }
   ],
   "source": [
    "dataset_path = r\"C:\\Users\\AkshithaKochika\\Downloads\\Hit Prediction\\Audio_Dataset\"\n",
    "hit_dir = os.path.join(dataset_path, 'hit songs')\n",
    "flop_dir = os.path.join(dataset_path, 'flop songs')\n",
    "features_list = []\n",
    "labels_list = []\n",
    "\n",
    "# Process directories\n",
    "process_directory(hit_dir, 1, features_list, labels_list)\n",
    "process_directory(flop_dir, 0, features_list, labels_list)\n",
    "\n",
    "# Build dataset and save to CSV\n",
    "features_df = build_dataset(features_list, labels_list)\n",
    "features_df.to_csv('audio_features.csv', index=False)"
   ]
  },
  {
   "cell_type": "code",
   "execution_count": 6,
   "metadata": {},
   "outputs": [],
   "source": [
    "import pandas as pd\n",
    "import numpy as np\n",
    "from sklearn.preprocessing import StandardScaler\n",
    "\n",
    "def convert_string_lists_to_numeric(df):\n",
    "    for column in df.columns:\n",
    "        if df[column].dtype == object:\n",
    "            try:\n",
    "                df[column] = df[column].apply(eval).apply(np.mean)\n",
    "            except Exception as e:\n",
    "                print(f\"Could not convert column {column} to numeric values. Error: {e}\")\n",
    "    return df\n",
    "\n",
    "def preprocess_data(features_df):\n",
    "    # Convert string lists to numeric values\n",
    "    features_df = convert_string_lists_to_numeric(features_df)\n",
    "    \n",
    "    # Handle missing values if any\n",
    "    features_df.fillna(features_df.mean(), inplace=True)\n",
    "    \n",
    "    # Scale the features\n",
    "    scaler = StandardScaler()\n",
    "    X = features_df.drop(columns=['label'])\n",
    "    X_scaled = scaler.fit_transform(X)\n",
    "    y = features_df['label']\n",
    "    \n",
    "    return X_scaled, y\n",
    "\n",
    "# Load and preprocess data\n",
    "features_df = pd.read_csv('audio_features.csv')\n",
    "X, y = preprocess_data(features_df)\n"
   ]
  },
  {
   "cell_type": "code",
   "execution_count": 7,
   "metadata": {},
   "outputs": [
    {
     "name": "stdout",
     "output_type": "stream",
     "text": [
      "Fitting 5 folds for each of 81 candidates, totalling 405 fits\n",
      "Best parameters found:  {'max_depth': 10, 'min_samples_leaf': 1, 'min_samples_split': 10, 'n_estimators': 100}\n",
      "Best cross-validation score:  0.8036363636363637\n"
     ]
    }
   ],
   "source": [
    "from sklearn.model_selection import GridSearchCV\n",
    "from sklearn.ensemble import RandomForestClassifier\n",
    "\n",
    "# Define the model\n",
    "rf = RandomForestClassifier(random_state=42)\n",
    "\n",
    "# Define the hyperparameters grid\n",
    "param_grid = {\n",
    "    'n_estimators': [50, 100, 200],\n",
    "    'max_depth': [10, 20, 30],\n",
    "    'min_samples_split': [2, 5, 10],\n",
    "    'min_samples_leaf': [1, 2, 4]\n",
    "}\n",
    "\n",
    "# Set up the grid search\n",
    "grid_search = GridSearchCV(estimator=rf, param_grid=param_grid, cv=5, n_jobs=-1, verbose=2)\n",
    "\n",
    "# Fit the grid search\n",
    "grid_search.fit(X, y)\n",
    "\n",
    "# Print best parameters and best score\n",
    "print(\"Best parameters found: \", grid_search.best_params_)\n",
    "print(\"Best cross-validation score: \", grid_search.best_score_)\n"
   ]
  },
  {
   "cell_type": "code",
   "execution_count": 8,
   "metadata": {},
   "outputs": [
    {
     "data": {
      "text/plain": [
       "['finetuned_audio_hit_flop_model.pkl']"
      ]
     },
     "execution_count": 8,
     "metadata": {},
     "output_type": "execute_result"
    }
   ],
   "source": [
    "# Train the model with the best parameters\n",
    "best_rf = grid_search.best_estimator_\n",
    "best_rf.fit(X, y)\n",
    "\n",
    "# Save the trained model\n",
    "import joblib\n",
    "joblib.dump(best_rf, 'finetuned_audio_hit_flop_model.pkl')\n"
   ]
  },
  {
   "cell_type": "code",
   "execution_count": 9,
   "metadata": {},
   "outputs": [
    {
     "name": "stdout",
     "output_type": "stream",
     "text": [
      "Cross-validation scores: [0.81818182 0.8        0.8        0.7        0.9       ]\n",
      "Mean cross-validation score: 0.8036363636363637\n",
      "Classification Report:\n",
      "               precision    recall  f1-score   support\n",
      "\n",
      "           0       1.00      0.93      0.97        15\n",
      "           1       0.97      1.00      0.99        36\n",
      "\n",
      "    accuracy                           0.98        51\n",
      "   macro avg       0.99      0.97      0.98        51\n",
      "weighted avg       0.98      0.98      0.98        51\n",
      "\n",
      "Confusion Matrix:\n",
      " [[14  1]\n",
      " [ 0 36]]\n"
     ]
    }
   ],
   "source": [
    "from sklearn.model_selection import cross_val_score\n",
    "from sklearn.metrics import classification_report, confusion_matrix\n",
    "\n",
    "# Cross-validation scores\n",
    "cv_scores = cross_val_score(best_rf, X, y, cv=5)\n",
    "print(\"Cross-validation scores:\", cv_scores)\n",
    "print(\"Mean cross-validation score:\", np.mean(cv_scores))\n",
    "\n",
    "# Predict and evaluate on the training data\n",
    "y_pred = best_rf.predict(X)\n",
    "print(\"Classification Report:\\n\", classification_report(y, y_pred))\n",
    "print(\"Confusion Matrix:\\n\", confusion_matrix(y, y_pred))\n"
   ]
  },
  {
   "cell_type": "code",
   "execution_count": 11,
   "metadata": {},
   "outputs": [
    {
     "name": "stdout",
     "output_type": "stream",
     "text": [
      "The song is predicted to be a Hit\n"
     ]
    },
    {
     "name": "stderr",
     "output_type": "stream",
     "text": [
      "c:\\Users\\AkshithaKochika\\AppData\\Local\\Programs\\Python\\Python38\\lib\\site-packages\\sklearn\\base.py:458: UserWarning: X has feature names, but RandomForestClassifier was fitted without feature names\n",
      "  warnings.warn(\n"
     ]
    }
   ],
   "source": [
    "import joblib\n",
    "import pandas as pd\n",
    "\n",
    "def predict_song(file_path, model_path='finetuned_audio_hit_flop_model.pkl'):\n",
    "    model = joblib.load(model_path)\n",
    "    features = extract_features(file_path)\n",
    "    if features is not None:\n",
    "        features_df = pd.DataFrame([features])\n",
    "        prediction = model.predict(features_df)\n",
    "        return 'Hit' if prediction[0] == 1 else 'Flop'\n",
    "    else:\n",
    "        return \"Error processing the song.\"\n",
    "\n",
    "# Example usage\n",
    "new_song_path = r\"C:\\Users\\AkshithaKochika\\Downloads\\Pilichina-SenSongsMp3.Co.mp3\"\n",
    "prediction = predict_song(new_song_path)\n",
    "print(f'The song is predicted to be a {prediction}')\n"
   ]
  },
  {
   "cell_type": "code",
   "execution_count": null,
   "metadata": {},
   "outputs": [],
   "source": []
  },
  {
   "cell_type": "code",
   "execution_count": null,
   "metadata": {},
   "outputs": [],
   "source": []
  },
  {
   "cell_type": "code",
   "execution_count": null,
   "metadata": {},
   "outputs": [],
   "source": []
  },
  {
   "cell_type": "code",
   "execution_count": null,
   "metadata": {},
   "outputs": [],
   "source": []
  },
  {
   "cell_type": "code",
   "execution_count": null,
   "metadata": {},
   "outputs": [],
   "source": []
  }
 ],
 "metadata": {
  "kernelspec": {
   "display_name": "Python 3",
   "language": "python",
   "name": "python3"
  },
  "language_info": {
   "codemirror_mode": {
    "name": "ipython",
    "version": 3
   },
   "file_extension": ".py",
   "mimetype": "text/x-python",
   "name": "python",
   "nbconvert_exporter": "python",
   "pygments_lexer": "ipython3",
   "version": "3.8.1"
  }
 },
 "nbformat": 4,
 "nbformat_minor": 2
}
